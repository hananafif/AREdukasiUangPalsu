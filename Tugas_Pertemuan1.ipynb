{
  "nbformat": 4,
  "nbformat_minor": 0,
  "metadata": {
    "colab": {
      "name": "Tugas-Pertemuan1.ipynb",
      "provenance": [],
      "authorship_tag": "ABX9TyMcP8igC1Jm2Dd3SRF78vS/",
      "include_colab_link": true
    },
    "kernelspec": {
      "name": "python3",
      "display_name": "Python 3"
    }
  },
  "cells": [
    {
      "cell_type": "markdown",
      "metadata": {
        "id": "view-in-github",
        "colab_type": "text"
      },
      "source": [
        "<a href=\"https://colab.research.google.com/github/hananafif/AREdukasiUangPalsu/blob/master/Tugas_Pertemuan1.ipynb\" target=\"_parent\"><img src=\"https://colab.research.google.com/assets/colab-badge.svg\" alt=\"Open In Colab\"/></a>"
      ]
    },
    {
      "cell_type": "code",
      "metadata": {
        "id": "Lde44fykfxHs"
      },
      "source": [
        "teks = \"\""
      ],
      "execution_count": null,
      "outputs": []
    }
  ]
}